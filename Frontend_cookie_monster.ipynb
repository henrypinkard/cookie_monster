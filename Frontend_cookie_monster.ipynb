{
 "cells": [
  {
   "cell_type": "code",
   "execution_count": 2,
   "id": "ce4383ba-846d-4b05-844c-6cc43308f3f3",
   "metadata": {
    "tags": []
   },
   "outputs": [
    {
     "name": "stdout",
     "output_type": "stream",
     "text": [
      "The autoreload extension is already loaded. To reload it, use:\n",
      "  %reload_ext autoreload\n"
     ]
    }
   ],
   "source": [
    "%load_ext autoreload\n",
    "%autoreload 2\n",
    "\n",
    "from cookie_monster_frontend_lib import create_df\n",
    "\n",
    "STATUS_DIR = \"/home/hpinkard_waller/GitRepos/EncodingInformation/led_array/phenotyping_experiments/config_files/\"\n",
    "\n",
    "\n",
    "df = create_df(STATUS_DIR, ('experiment name', 'status', 'date'))\n",
    "\n",
    "df\n"
   ]
  },
  {
   "cell_type": "code",
   "execution_count": null,
   "id": "e5a37bdf",
   "metadata": {},
   "outputs": [],
   "source": [
    "# import tensorflow as tf\n",
    "\n",
    "# i = tf.compat.v1.train.summary_iterator('/home/hpinkard_waller/models/Different_input_contrasts_DPC_raw_trial1/tensorboard/train/events.out.tfevents.1677808652.waller-fuoco.1383916.0.v2')\n",
    "\n",
    "# for e in i:\n",
    "#     for v in e.summary.value:\n",
    "#         if 'loss' in v.tag:\n",
    "#             print(v.tag, tf.make_ndarray(v.tensor))\n",
    "\n"
   ]
  }
 ],
 "metadata": {
  "kernelspec": {
   "display_name": "phenotypes",
   "language": "python",
   "name": "python3"
  },
  "language_info": {
   "codemirror_mode": {
    "name": "ipython",
    "version": 3
   },
   "file_extension": ".py",
   "mimetype": "text/x-python",
   "name": "python",
   "nbconvert_exporter": "python",
   "pygments_lexer": "ipython3",
   "version": "3.10.13"
  },
  "vscode": {
   "interpreter": {
    "hash": "dc13f1389d0ed06a5aaba55b57c31481f1f66a13bd8d2d515af4673f6cca2443"
   }
  }
 },
 "nbformat": 4,
 "nbformat_minor": 5
}
